{
 "cells": [
  {
   "cell_type": "code",
   "execution_count": 4,
   "metadata": {},
   "outputs": [
    {
     "name": "stdout",
     "output_type": "stream",
     "text": [
      "Note: you may need to restart the kernel to use updated packages.\n"
     ]
    }
   ],
   "source": [
    "%pip install -qU pypdf langchain-openai"
   ]
  },
  {
   "cell_type": "code",
   "execution_count": null,
   "metadata": {},
   "outputs": [],
   "source": [
    "import base64\n",
    "import io\n",
    "\n",
    "import fitz\n",
    "from PIL import Image\n",
    "\n",
    "\n",
    "def pdf_page_to_base64(pdf_path: str, page_number: int):\n",
    "    pdf_document = fitz.open(pdf_path)\n",
    "    page = pdf_document.load_page(page_number - 1)  # input is one-indexed\n",
    "    pix = page.get_pixmap()\n",
    "    img = Image.frombytes(\"RGB\", [pix.width, pix.height], pix.samples)\n",
    "\n",
    "    buffer = io.BytesIO()\n",
    "    img.save(buffer, format=\"PNG\")\n",
    "\n",
    "    return base64.b64encode(buffer.getvalue()).decode(\"utf-8\")"
   ]
  },
  {
   "cell_type": "code",
   "execution_count": 2,
   "metadata": {},
   "outputs": [],
   "source": [
    "from langchain_community.document_loaders import PyPDFLoader\n",
    "\n",
    "file_path = \"../sample_data/chart_notes/B3YQT42Q_No PHI.pdf\"\n",
    "\n",
    "loader = PyPDFLoader(file_path)\n",
    "pages = []\n",
    "async for page in loader.alazy_load():\n",
    "    pages.append(page)"
   ]
  },
  {
   "cell_type": "code",
   "execution_count": 3,
   "metadata": {},
   "outputs": [
    {
     "name": "stdout",
     "output_type": "stream",
     "text": [
      "{'source': '../sample_data/chart_notes/B3YQT42Q_No PHI.pdf', 'page': 0}\n",
      "\n",
      "6/17/24, 5:42AM \n",
      "MRN:  \n",
      "Office Visit 6/4/2024 \n",
      "Bon Secours Neurology Clinic \n",
      "Westchester \n",
      "Provider: APRN - NP (Neurology) \n",
      "Primary diagnosis: Chronic migraine without aura, intractable, with status \n",
      "migrainosus \n",
      "Reason for Visit: New Patient \n",
      "Progress Notes __________ APRN - NP (Nurse Practitioner)• Neurology\n",
      "�t,N SKOURS MEDICAL GROUP \n",
      "27 y.o. female who presents with the following \n",
      "Chief Complaint \n",
      "Patient presents with \n",
      "• New Patient\n",
      "Patient was referred by Dr. for headaches. Patient reports having almost daily headaches. \n",
      "HPI \n",
      "Patient comes in as a new patient for chronic migraines \n",
      "She is having a migraine every single day \n",
      "She was diagnosed in her teenage years but then had a unfortunate bad car accident in 2019 which made \n",
      "them significantly worse \n",
      "Since then she has been having debilitating migraines \n",
      "Hypersensitivity light sound and smell \n",
      "Nausea but no vomiting \n",
      "Some dizziness and lightheadedness \n",
      "She has not had an MRI since car accident \n",
      "She is also been left to have significant weakness on the left side of her body \n",
      "She is currently in a wheelchair today for long distance \n",
      "She can get around her house okay \n",
      "She lives with her grandmother and tries to be as self-sufficient as she can \n",
      "She is significantly weaker on the left side \n",
      "The right side is very strong and intact \n",
      "She has multiple areas of previous skin grafts and damage from this \n",
      "She was given Topamax and it did not work well for her and made her feel worse \n",
      "She is currently on Cymbalta 30 mg daily \n",
      "This has not helped \n",
      "She cannot take blood pressure medications as she is hypotensive so this is medically contraindicated \n",
      "She has an allergy to shellfish \n",
      "She was given lmitrex last time but did not help from her primary care \n",
      "She is not really sure what triggers her migraines \n",
      "They come every single day and can last all day and night \n",
      "Allergies \n",
      "Allergen \n",
      "• Shellfish Allergy\n",
      "Reactions \n",
      "Anaphylaxis \n",
      "1/11 \n"
     ]
    }
   ],
   "source": [
    "print(f\"{pages[0].metadata}\\n\")\n",
    "print(pages[0].page_content)"
   ]
  },
  {
   "cell_type": "code",
   "execution_count": 7,
   "metadata": {},
   "outputs": [],
   "source": [
    "import getpass\n",
    "import os\n",
    "\n",
    "\n",
    "def _set_if_undefined(var: str):\n",
    "    if not os.environ.get(var):\n",
    "        os.environ[var] = getpass.getpass(f\"{var}=\")\n",
    "\n",
    "\n",
    "_set_if_undefined(\"OPENAI_API_KEY\")\n",
    "_set_if_undefined(\"OPENAI_API_BASE\")"
   ]
  },
  {
   "cell_type": "code",
   "execution_count": 10,
   "metadata": {},
   "outputs": [
    {
     "name": "stdout",
     "output_type": "stream",
     "text": [
      "Page 2: 6/17/24, 5:42AM \n",
      "Past Medical History: \n",
      "Diagnosis \n",
      "• Anxiety\n",
      "• Asthma\n",
      "• Bilateral pneumothorax\n",
      "• Cervical spine fracture (HCC)\n",
      "C3-C5\n",
      "• Chorioretinitis\n",
      "• Chronic pain\n",
      "• Colostomy present (HCC)\n",
      "• Depression\n",
      "• Ectopic pregnancy\n",
      "• Foot drop, left\n",
      "• H/O skin graft\n",
      "Allograft to left thigh and posterior tr\n",
      "\n",
      "Page 0: 6/17/24, 5:42AM \n",
      "MRN:  \n",
      "Office Visit 6/4/2024 \n",
      "Bon Secours Neurology Clinic \n",
      "Westchester \n",
      "Provider: APRN - NP (Neurology) \n",
      "Primary diagnosis: Chronic migraine without aura, intractable, with status \n",
      "migrainosus \n",
      "Reason for Visit: New Patient \n",
      "Progress Notes __________ APRN - NP (Nurse Practitioner)•\n",
      "\n"
     ]
    }
   ],
   "source": [
    "from langchain_core.vectorstores import InMemoryVectorStore\n",
    "from langchain_openai import AzureOpenAIEmbeddings\n",
    "\n",
    "vector_store = InMemoryVectorStore.from_documents(pages, AzureOpenAIEmbeddings(model=\"embedding\"))\n",
    "docs = vector_store.similarity_search(\"What is chief complaint?\", k=2)\n",
    "for doc in docs:\n",
    "    print(f'Page {doc.metadata[\"page\"]}: {doc.page_content[:300]}\\n')"
   ]
  }
 ],
 "metadata": {
  "kernelspec": {
   "display_name": ".venv",
   "language": "python",
   "name": "python3"
  },
  "language_info": {
   "codemirror_mode": {
    "name": "ipython",
    "version": 3
   },
   "file_extension": ".py",
   "mimetype": "text/x-python",
   "name": "python",
   "nbconvert_exporter": "python",
   "pygments_lexer": "ipython3",
   "version": "3.12.7"
  }
 },
 "nbformat": 4,
 "nbformat_minor": 2
}
